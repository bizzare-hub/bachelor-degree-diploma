{
 "cells": [
  {
   "cell_type": "markdown",
   "metadata": {},
   "source": [
    "### Preparation of pairs for benchmarking\n",
    "\n",
    "Validation dataset from competition is unstable, so custom benchmark dataset needs to be prepared.\n",
    "\n",
    "For that purpose we will take approx. 10-20% of created validation data and create pairs of less and more toxic comments. This pairs will be evaluated separately from competition data\n",
    "    \n",
    "`!` Unintended Bias dataset works pretty well, so we will work with it"
   ]
  },
  {
   "cell_type": "code",
   "execution_count": 1,
   "metadata": {},
   "outputs": [],
   "source": [
    "from pathlib import Path\n",
    "import os\n",
    "import pandas as pd\n",
    "import numpy as np\n",
    "from tqdm import tqdm\n",
    "from sklearn.model_selection import StratifiedKFold\n",
    "from transformers import AutoTokenizer"
   ]
  },
  {
   "cell_type": "code",
   "execution_count": 2,
   "metadata": {},
   "outputs": [],
   "source": [
    "main_dir = Path('/Users/avgalichin/Documents/kaggle/Jigsaw2022/Datasets')\n",
    "data_dir = main_dir/'val'"
   ]
  },
  {
   "cell_type": "markdown",
   "metadata": {},
   "source": [
    "#### Downloading  data"
   ]
  },
  {
   "cell_type": "code",
   "execution_count": 3,
   "metadata": {},
   "outputs": [
    {
     "name": "stdout",
     "output_type": "stream",
     "text": [
      "(53454, 4)\n"
     ]
    },
    {
     "data": {
      "text/html": [
       "<div>\n",
       "<style scoped>\n",
       "    .dataframe tbody tr th:only-of-type {\n",
       "        vertical-align: middle;\n",
       "    }\n",
       "\n",
       "    .dataframe tbody tr th {\n",
       "        vertical-align: top;\n",
       "    }\n",
       "\n",
       "    .dataframe thead th {\n",
       "        text-align: right;\n",
       "    }\n",
       "</style>\n",
       "<table border=\"1\" class=\"dataframe\">\n",
       "  <thead>\n",
       "    <tr style=\"text-align: right;\">\n",
       "      <th></th>\n",
       "      <th>id</th>\n",
       "      <th>label</th>\n",
       "      <th>input_ids</th>\n",
       "      <th>attention_mask</th>\n",
       "    </tr>\n",
       "  </thead>\n",
       "  <tbody>\n",
       "    <tr>\n",
       "      <th>0</th>\n",
       "      <td>239583</td>\n",
       "      <td>0.600000</td>\n",
       "      <td>[0, 243, 18, 10861, 14, 209, 1669, 32, 145, 37...</td>\n",
       "      <td>[1, 1, 1, 1, 1, 1, 1, 1, 1, 1, 1, 1, 1, 1, 1, ...</td>\n",
       "    </tr>\n",
       "    <tr>\n",
       "      <th>1</th>\n",
       "      <td>239592</td>\n",
       "      <td>0.500000</td>\n",
       "      <td>[0, 25441, 1506, 25668, 6, 34629, 1952, 8, 148...</td>\n",
       "      <td>[1, 1, 1, 1, 1, 1, 1, 1, 1, 1, 1, 1, 1, 1, 1, ...</td>\n",
       "    </tr>\n",
       "    <tr>\n",
       "      <th>2</th>\n",
       "      <td>239655</td>\n",
       "      <td>0.361111</td>\n",
       "      <td>[0, 42735, 55, 385, 9683, 366, 6, 27023, 4, 2,...</td>\n",
       "      <td>[1, 1, 1, 1, 1, 1, 1, 1, 1, 1, 0, 0, 0, 0, 0, ...</td>\n",
       "    </tr>\n",
       "    <tr>\n",
       "      <th>3</th>\n",
       "      <td>239671</td>\n",
       "      <td>0.000000</td>\n",
       "      <td>[0, 44468, 154, 1114, 4, 38, 3805, 7, 304, 138...</td>\n",
       "      <td>[1, 1, 1, 1, 1, 1, 1, 1, 1, 1, 1, 1, 1, 1, 1, ...</td>\n",
       "    </tr>\n",
       "    <tr>\n",
       "      <th>4</th>\n",
       "      <td>239743</td>\n",
       "      <td>0.166667</td>\n",
       "      <td>[0, 104, 8774, 6, 117, 55, 295, 1113, 295, 111...</td>\n",
       "      <td>[1, 1, 1, 1, 1, 1, 1, 1, 1, 1, 1, 1, 1, 1, 1, ...</td>\n",
       "    </tr>\n",
       "  </tbody>\n",
       "</table>\n",
       "</div>"
      ],
      "text/plain": [
       "       id     label                                          input_ids  \\\n",
       "0  239583  0.600000  [0, 243, 18, 10861, 14, 209, 1669, 32, 145, 37...   \n",
       "1  239592  0.500000  [0, 25441, 1506, 25668, 6, 34629, 1952, 8, 148...   \n",
       "2  239655  0.361111  [0, 42735, 55, 385, 9683, 366, 6, 27023, 4, 2,...   \n",
       "3  239671  0.000000  [0, 44468, 154, 1114, 4, 38, 3805, 7, 304, 138...   \n",
       "4  239743  0.166667  [0, 104, 8774, 6, 117, 55, 295, 1113, 295, 111...   \n",
       "\n",
       "                                      attention_mask  \n",
       "0  [1, 1, 1, 1, 1, 1, 1, 1, 1, 1, 1, 1, 1, 1, 1, ...  \n",
       "1  [1, 1, 1, 1, 1, 1, 1, 1, 1, 1, 1, 1, 1, 1, 1, ...  \n",
       "2  [1, 1, 1, 1, 1, 1, 1, 1, 1, 1, 0, 0, 0, 0, 0, ...  \n",
       "3  [1, 1, 1, 1, 1, 1, 1, 1, 1, 1, 1, 1, 1, 1, 1, ...  \n",
       "4  [1, 1, 1, 1, 1, 1, 1, 1, 1, 1, 1, 1, 1, 1, 1, ...  "
      ]
     },
     "execution_count": 3,
     "metadata": {},
     "output_type": "execute_result"
    }
   ],
   "source": [
    "data = pd.read_csv(data_dir/'ub_data.csv')\n",
    "print(data.shape)\n",
    "data.head()"
   ]
  },
  {
   "cell_type": "markdown",
   "metadata": {},
   "source": [
    "#### Get Stratified split on 5 folds, then take 1 fold as benchmark"
   ]
  },
  {
   "cell_type": "code",
   "execution_count": 4,
   "metadata": {},
   "outputs": [],
   "source": [
    "def get_groups(df, n_groups=10, col_name='target'):\n",
    "    \"\"\"Split by quantiles\"\"\"\n",
    "    \n",
    "    q_orders = [(1. / n_groups) * n for n in range(n_groups)]\n",
    "    quantiles = df[col_name].quantile(q_orders).values\n",
    "    quantiles = sorted(list(set(quantiles)))\n",
    "    \n",
    "    print(f'Effective number of groups: {len(quantiles)}')\n",
    "    print(quantiles)\n",
    "    \n",
    "    for i, q in enumerate(quantiles):\n",
    "        df.loc[df[col_name] >= q, 'group'] = i\n",
    "        \n",
    "    return df\n",
    "\n",
    "\n",
    "def get_folds(df, n_folds=5, shuffle=True, split_by='group'):\n",
    "    \"\"\"\n",
    "    Get stratified folds\n",
    "    \n",
    "    !: Use it only if 'labels' have a comparably small number of values\n",
    "    \"\"\"\n",
    "    skf = StratifiedKFold(n_splits=n_folds, shuffle=shuffle)\n",
    "\n",
    "    labels_vals = df[split_by].unique()\n",
    "    for idx, lv in enumerate(labels_vals):\n",
    "        df.loc[df[split_by] == lv, 'encoded_label'] = idx\n",
    "    \n",
    "    for fold, (_, val_idx) in enumerate(skf.split(X=df, y=df.encoded_label)):\n",
    "        df.loc[val_idx, 'fold'] = fold\n",
    "    df['fold'] = df['fold'].astype(np.uint8)\n",
    "    \n",
    "    df = df.drop('encoded_label', 1)\n",
    "    \n",
    "    return df"
   ]
  },
  {
   "cell_type": "code",
   "execution_count": 5,
   "metadata": {},
   "outputs": [
    {
     "name": "stdout",
     "output_type": "stream",
     "text": [
      "Effective number of groups: 7\n",
      "[0.0, 0.16666666666666666, 0.2, 0.3, 0.4, 0.5, 0.6973684210526315]\n"
     ]
    },
    {
     "data": {
      "text/plain": [
       "fold  group\n",
       "0     1.0      0.259259\n",
       "      5.0      0.158623\n",
       "      0.0      0.147774\n",
       "      3.0      0.120090\n",
       "      2.0      0.107744\n",
       "      4.0      0.106435\n",
       "      6.0      0.100075\n",
       "1     1.0      0.259259\n",
       "      5.0      0.158436\n",
       "      0.0      0.147774\n",
       "      3.0      0.120277\n",
       "      2.0      0.107744\n",
       "      4.0      0.106435\n",
       "      6.0      0.100075\n",
       "2     1.0      0.259259\n",
       "      5.0      0.158436\n",
       "      0.0      0.147774\n",
       "      3.0      0.120277\n",
       "      2.0      0.107744\n",
       "      4.0      0.106435\n",
       "      6.0      0.100075\n",
       "3     1.0      0.259259\n",
       "      5.0      0.158436\n",
       "      0.0      0.147774\n",
       "      3.0      0.120277\n",
       "      2.0      0.107744\n",
       "      4.0      0.106435\n",
       "      6.0      0.100075\n",
       "4     1.0      0.259495\n",
       "      5.0      0.158466\n",
       "                 ...   \n",
       "5     4.0      0.106268\n",
       "      6.0      0.100094\n",
       "6     1.0      0.259308\n",
       "      5.0      0.158466\n",
       "      0.0      0.147615\n",
       "      3.0      0.120299\n",
       "      2.0      0.107951\n",
       "      4.0      0.106268\n",
       "      6.0      0.100094\n",
       "7     1.0      0.259308\n",
       "      5.0      0.158466\n",
       "      0.0      0.147615\n",
       "      3.0      0.120299\n",
       "      2.0      0.107951\n",
       "      4.0      0.106268\n",
       "      6.0      0.100094\n",
       "8     1.0      0.259308\n",
       "      5.0      0.158466\n",
       "      0.0      0.147802\n",
       "      3.0      0.120112\n",
       "      2.0      0.107951\n",
       "      4.0      0.106268\n",
       "      6.0      0.100094\n",
       "9     1.0      0.259308\n",
       "      5.0      0.158466\n",
       "      0.0      0.147802\n",
       "      3.0      0.120112\n",
       "      2.0      0.107951\n",
       "      4.0      0.106268\n",
       "      6.0      0.100094\n",
       "Name: group, Length: 70, dtype: float64"
      ]
     },
     "execution_count": 5,
     "metadata": {},
     "output_type": "execute_result"
    }
   ],
   "source": [
    "data = get_groups(data.copy(), col_name='label')\n",
    "data = get_folds(data.copy(), n_folds=10)\n",
    "data.groupby('fold').group.value_counts(normalize=True)"
   ]
  },
  {
   "cell_type": "code",
   "execution_count": null,
   "metadata": {},
   "outputs": [],
   "source": [
    "validation_data = data[data.fold != 9].copy()\n"
   ]
  },
  {
   "cell_type": "code",
   "execution_count": 8,
   "metadata": {},
   "outputs": [
    {
     "name": "stdout",
     "output_type": "stream",
     "text": [
      "(5345, 5)\n"
     ]
    },
    {
     "data": {
      "text/html": [
       "<div>\n",
       "<style scoped>\n",
       "    .dataframe tbody tr th:only-of-type {\n",
       "        vertical-align: middle;\n",
       "    }\n",
       "\n",
       "    .dataframe tbody tr th {\n",
       "        vertical-align: top;\n",
       "    }\n",
       "\n",
       "    .dataframe thead th {\n",
       "        text-align: right;\n",
       "    }\n",
       "</style>\n",
       "<table border=\"1\" class=\"dataframe\">\n",
       "  <thead>\n",
       "    <tr style=\"text-align: right;\">\n",
       "      <th></th>\n",
       "      <th>id</th>\n",
       "      <th>label</th>\n",
       "      <th>input_ids</th>\n",
       "      <th>attention_mask</th>\n",
       "      <th>group</th>\n",
       "    </tr>\n",
       "  </thead>\n",
       "  <tbody>\n",
       "    <tr>\n",
       "      <th>4</th>\n",
       "      <td>239743</td>\n",
       "      <td>0.166667</td>\n",
       "      <td>[0, 104, 8774, 6, 117, 55, 295, 1113, 295, 111...</td>\n",
       "      <td>[1, 1, 1, 1, 1, 1, 1, 1, 1, 1, 1, 1, 1, 1, 1, ...</td>\n",
       "      <td>1.0</td>\n",
       "    </tr>\n",
       "    <tr>\n",
       "      <th>21</th>\n",
       "      <td>242329</td>\n",
       "      <td>0.166667</td>\n",
       "      <td>[0, 243, 18, 41, 2679, 41143, 119, 2133, 4, 38...</td>\n",
       "      <td>[1, 1, 1, 1, 1, 1, 1, 1, 1, 1, 1, 1, 1, 1, 1, ...</td>\n",
       "      <td>1.0</td>\n",
       "    </tr>\n",
       "    <tr>\n",
       "      <th>25</th>\n",
       "      <td>242561</td>\n",
       "      <td>0.400000</td>\n",
       "      <td>[0, 14783, 6, 14, 27726, 11054, 1819, 473, 176...</td>\n",
       "      <td>[1, 1, 1, 1, 1, 1, 1, 1, 1, 1, 1, 1, 1, 1, 1, ...</td>\n",
       "      <td>4.0</td>\n",
       "    </tr>\n",
       "    <tr>\n",
       "      <th>28</th>\n",
       "      <td>242755</td>\n",
       "      <td>0.200000</td>\n",
       "      <td>[0, 7605, 42, 1804, 31140, 6, 52, 218, 75, 216...</td>\n",
       "      <td>[1, 1, 1, 1, 1, 1, 1, 1, 1, 1, 1, 1, 1, 1, 1, ...</td>\n",
       "      <td>2.0</td>\n",
       "    </tr>\n",
       "    <tr>\n",
       "      <th>35</th>\n",
       "      <td>243843</td>\n",
       "      <td>0.700000</td>\n",
       "      <td>[0, 1121, 127, 2979, 6, 5, 2448, 8, 384, 4186,...</td>\n",
       "      <td>[1, 1, 1, 1, 1, 1, 1, 1, 1, 1, 1, 1, 1, 1, 1, ...</td>\n",
       "      <td>6.0</td>\n",
       "    </tr>\n",
       "  </tbody>\n",
       "</table>\n",
       "</div>"
      ],
      "text/plain": [
       "        id     label                                          input_ids  \\\n",
       "4   239743  0.166667  [0, 104, 8774, 6, 117, 55, 295, 1113, 295, 111...   \n",
       "21  242329  0.166667  [0, 243, 18, 41, 2679, 41143, 119, 2133, 4, 38...   \n",
       "25  242561  0.400000  [0, 14783, 6, 14, 27726, 11054, 1819, 473, 176...   \n",
       "28  242755  0.200000  [0, 7605, 42, 1804, 31140, 6, 52, 218, 75, 216...   \n",
       "35  243843  0.700000  [0, 1121, 127, 2979, 6, 5, 2448, 8, 384, 4186,...   \n",
       "\n",
       "                                       attention_mask  group  \n",
       "4   [1, 1, 1, 1, 1, 1, 1, 1, 1, 1, 1, 1, 1, 1, 1, ...    1.0  \n",
       "21  [1, 1, 1, 1, 1, 1, 1, 1, 1, 1, 1, 1, 1, 1, 1, ...    1.0  \n",
       "25  [1, 1, 1, 1, 1, 1, 1, 1, 1, 1, 1, 1, 1, 1, 1, ...    4.0  \n",
       "28  [1, 1, 1, 1, 1, 1, 1, 1, 1, 1, 1, 1, 1, 1, 1, ...    2.0  \n",
       "35  [1, 1, 1, 1, 1, 1, 1, 1, 1, 1, 1, 1, 1, 1, 1, ...    6.0  "
      ]
     },
     "execution_count": 8,
     "metadata": {},
     "output_type": "execute_result"
    }
   ],
   "source": [
    "benchmark_data = data[data.fold == 9].copy()\n",
    "benchmark_data = benchmark_data.drop('fold', 1)\n",
    "print(benchmark_data.shape)\n",
    "benchmark_data.head()"
   ]
  },
  {
   "cell_type": "code",
   "execution_count": null,
   "metadata": {},
   "outputs": [],
   "source": []
  }
 ],
 "metadata": {
  "kernelspec": {
   "display_name": "Python 3",
   "language": "python",
   "name": "python3"
  },
  "language_info": {
   "codemirror_mode": {
    "name": "ipython",
    "version": 3
   },
   "file_extension": ".py",
   "mimetype": "text/x-python",
   "name": "python",
   "nbconvert_exporter": "python",
   "pygments_lexer": "ipython3",
   "version": "3.7.7"
  }
 },
 "nbformat": 4,
 "nbformat_minor": 4
}
