{
 "cells": [
  {
   "cell_type": "code",
   "execution_count": 1,
   "metadata": {},
   "outputs": [],
   "source": [
    "import sys\n",
    "sys.path.append('/Users/avgalichin/Documents/kaggle/Jigsaw2022')\n",
    "import os\n",
    "from pathlib import Path\n",
    "import pandas as pd\n",
    "from tqdm import tqdm\n",
    "from transformers import AutoTokenizer\n",
    "\n",
    "from src.data_utils import (clean, encode_df)"
   ]
  },
  {
   "cell_type": "markdown",
   "metadata": {},
   "source": [
    "#### Download and clean data"
   ]
  },
  {
   "cell_type": "code",
   "execution_count": null,
   "metadata": {},
   "outputs": [],
   "source": [
    "def clean(df: pd.DataFrame, col_name: str = 'text', min_len: int = 15):\n",
    "    df.loc[:, col_name] = df[col_name].str.replace('https?://\\S+|www\\.\\S+', ' social medium ')\n",
    "    df.loc[:, col_name] = df[col_name].str.replace('\\s+', ' ')\n",
    "    df.loc[:, col_name] = df[col_name].str.strip()\n",
    "    df = df[df[col_name].str.len() > min_len]\n",
    "\n",
    "    df.reset_index(drop=True, inplace=True)\n",
    "\n",
    "    return df"
   ]
  },
  {
   "cell_type": "code",
   "execution_count": 8,
   "metadata": {},
   "outputs": [],
   "source": [
    "main_dir = Path('/Users/avgalichin/Documents/kaggle/Jigsaw2022/Datasets')\n",
    "data_dir = main_dir / 'Initial'"
   ]
  },
  {
   "cell_type": "code",
   "execution_count": null,
   "metadata": {},
   "outputs": [],
   "source": [
    "data = pd.read_csv(data_dir / 'jigsaw22_validation_data.csv')\n",
    "print(data.shape)\n",
    "data.head()"
   ]
  },
  {
   "cell_type": "code",
   "execution_count": null,
   "metadata": {},
   "outputs": [],
   "source": [
    "data = clean(data.copy(), col_name='less_toxic', min_len=0)\n",
    "data = clean(data.copy(), col_name='more_toxic', min_len=0)\n",
    "data = data.drop_duplicates(subset=['less_toxic', 'more_toxic'])\n",
    "data.reset_index(drop=True, inplace=True)\n",
    "\n",
    "print(data.shape)\n",
    "data.head()"
   ]
  },
  {
   "cell_type": "code",
   "execution_count": 9,
   "metadata": {},
   "outputs": [],
   "source": [
    "from src.models import _initialize_hugginface_pair_model\n",
    "from src.dataset import Jigsaw22DatasetPaired"
   ]
  },
  {
   "cell_type": "code",
   "execution_count": 10,
   "metadata": {},
   "outputs": [],
   "source": [
    "tokenizer = AutoTokenizer.from_pretrained('bert-base-cased')"
   ]
  },
  {
   "cell_type": "code",
   "execution_count": 11,
   "metadata": {},
   "outputs": [
    {
     "name": "stderr",
     "output_type": "stream",
     "text": [
      "/Users/avgalichin/Documents/kaggle/Jigsaw2022/src/dataset.py:176: FutureWarning: The default value of regex will change from True to False in a future version.\n",
      "  df.loc[:, col_n] = df[col_n].str.replace('https?://\\S+|www\\.\\S+', ' social medium ')\n",
      "/Users/avgalichin/Documents/kaggle/Jigsaw2022/src/dataset.py:177: FutureWarning: The default value of regex will change from True to False in a future version.\n",
      "  df.loc[:, col_n] = df[col_n].str.replace('\\s+', ' ')\n",
      "/Users/avgalichin/Documents/kaggle/Jigsaw2022/src/data_utils.py:89: FutureWarning: In a future version of pandas all arguments of DataFrame.drop except for the argument 'labels' will be keyword-only\n",
      "  df.drop(col_name, 1, inplace=True)\n"
     ]
    }
   ],
   "source": [
    "data = Jigsaw22DatasetPaired(\n",
    "    [data_dir / 'jigsaw22_validation_data.csv'],\n",
    "    tokenizer,\n",
    "    batch_size=2,\n",
    "    shuffle=False)"
   ]
  },
  {
   "cell_type": "code",
   "execution_count": 12,
   "metadata": {},
   "outputs": [],
   "source": [
    "for ex in data.dataset.take(1):\n",
    "    pass"
   ]
  },
  {
   "cell_type": "code",
   "execution_count": null,
   "metadata": {},
   "outputs": [],
   "source": [
    "model = _initialize_hugginface_pair_model(n_classes=1)"
   ]
  },
  {
   "cell_type": "code",
   "execution_count": 14,
   "metadata": {},
   "outputs": [],
   "source": [
    "output = model(ex[0])"
   ]
  },
  {
   "cell_type": "code",
   "execution_count": 10,
   "metadata": {},
   "outputs": [
    {
     "data": {
      "text/plain": [
       "<tf.Tensor: shape=(), dtype=float32, numpy=0.5>"
      ]
     },
     "execution_count": 10,
     "metadata": {},
     "output_type": "execute_result"
    }
   ],
   "source": [
    "from src.losses import MarginRankingLoss\n",
    "import tensorflow as tf\n",
    "\n",
    "mrl = MarginRankingLoss(margin=0.5)\n",
    "\n",
    "mrl(tf.cast(ex[1], tf.float32)[:, None], output)"
   ]
  },
  {
   "cell_type": "code",
   "execution_count": null,
   "metadata": {},
   "outputs": [],
   "source": []
  }
 ],
 "metadata": {
  "kernelspec": {
   "display_name": "Python 3",
   "language": "python",
   "name": "python3"
  },
  "language_info": {
   "codemirror_mode": {
    "name": "ipython",
    "version": 3
   },
   "file_extension": ".py",
   "mimetype": "text/x-python",
   "name": "python",
   "nbconvert_exporter": "python",
   "pygments_lexer": "ipython3",
   "version": "3.7.7"
  }
 },
 "nbformat": 4,
 "nbformat_minor": 4
}
