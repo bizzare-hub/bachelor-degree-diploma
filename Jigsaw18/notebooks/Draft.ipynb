{
 "cells": [
  {
   "cell_type": "code",
   "execution_count": 1,
   "id": "7af4bf4c",
   "metadata": {},
   "outputs": [],
   "source": [
    "import sys\n",
    "sys.path.append(\"/Users/avgalichin/Documents/kaggle/Jigsaw2022/Jigsaw18/src\")\n",
    "\n",
    "from losses import multiclass_sigmoid_cross_entropy_with_logits, MulticlassCrossentropy\n",
    "from dataset import Jigsaw18Dataset"
   ]
  },
  {
   "cell_type": "code",
   "execution_count": 2,
   "id": "e00c7fef",
   "metadata": {},
   "outputs": [],
   "source": [
    "# check loss"
   ]
  },
  {
   "cell_type": "code",
   "execution_count": 3,
   "id": "a812f069",
   "metadata": {},
   "outputs": [],
   "source": [
    "labels = [[0, 0, 1, 0, 0, 1],\n",
    "          [0, 1, 0, 0, 0, 0],\n",
    "          [0, 0, 0, 0, 0, 0]]\n",
    "logits = [[0.5, 0.1, 0.9, 0, 0.2, 0.85],\n",
    "          [0, 0.99, 0.4, 0.7, 0.0, 0.1],\n",
    "          [0.001, 0.05, 0.3, 0.005, 0.00001, 0.0]]"
   ]
  },
  {
   "cell_type": "code",
   "execution_count": 4,
   "id": "3a7162ce",
   "metadata": {},
   "outputs": [
    {
     "data": {
      "text/plain": [
       "<tf.Tensor: shape=(), dtype=float32, numpy=0.706558>"
      ]
     },
     "execution_count": 4,
     "metadata": {},
     "output_type": "execute_result"
    }
   ],
   "source": [
    "multiclass_sigmoid_cross_entropy_with_logits(labels, logits)"
   ]
  },
  {
   "cell_type": "code",
   "execution_count": 5,
   "id": "80a43bef",
   "metadata": {},
   "outputs": [
    {
     "data": {
      "text/plain": [
       "<tf.Tensor: shape=(), dtype=float32, numpy=0.706558>"
      ]
     },
     "execution_count": 5,
     "metadata": {},
     "output_type": "execute_result"
    }
   ],
   "source": [
    "wrapper = MulticlassCrossentropy()\n",
    "wrapper(labels, logits)"
   ]
  },
  {
   "cell_type": "code",
   "execution_count": 6,
   "id": "7f721a10",
   "metadata": {},
   "outputs": [],
   "source": [
    "# check dataset"
   ]
  },
  {
   "cell_type": "code",
   "execution_count": 7,
   "id": "b42d3e0c",
   "metadata": {},
   "outputs": [
    {
     "data": {
      "text/plain": [
       "<RepeatDataset element_spec=(TensorSpec(shape=(None, 256, 2), dtype=tf.int32, name=None), TensorSpec(shape=(None, 6), dtype=tf.float32, name=None))>"
      ]
     },
     "execution_count": 7,
     "metadata": {},
     "output_type": "execute_result"
    }
   ],
   "source": [
    "data_config = {\n",
    "    \"data_path\": [\"/Users/avgalichin/Documents/kaggle/Jigsaw2022/Jigsaw18/dataset/train_data.csv\"],\n",
    "    \"label_columns\": ['toxic', 'severe_toxic', 'obscene', 'threat', 'insult', 'identity_hate'],\n",
    "    \"batch_size\": 4,\n",
    "    \"n_epochs\": 1,\n",
    "    \"shuffle\": False,\n",
    "}\n",
    "\n",
    "data = Jigsaw18Dataset(**data_config)\n",
    "data.dataset"
   ]
  }
 ],
 "metadata": {
  "kernelspec": {
   "display_name": "Python 3",
   "language": "python",
   "name": "python3"
  },
  "language_info": {
   "codemirror_mode": {
    "name": "ipython",
    "version": 3
   },
   "file_extension": ".py",
   "mimetype": "text/x-python",
   "name": "python",
   "nbconvert_exporter": "python",
   "pygments_lexer": "ipython3",
   "version": "3.7.7"
  }
 },
 "nbformat": 4,
 "nbformat_minor": 5
}
